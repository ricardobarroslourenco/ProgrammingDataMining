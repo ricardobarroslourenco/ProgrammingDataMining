{
 "cells": [
  {
   "cell_type": "code",
   "execution_count": 1,
   "metadata": {
    "collapsed": true
   },
   "outputs": [],
   "source": [
    "# CSC 478 - Programming Data Mining Applications - Professor Bamshad Mobasher\n",
    "# Student: Ricardo Barros Lourenço\n",
    "# Final Project Notebook"
   ]
  },
  {
   "cell_type": "code",
   "execution_count": 2,
   "metadata": {
    "collapsed": false
   },
   "outputs": [],
   "source": [
    "import numpy as np\n",
    "import pandas as pd\n",
    "from osgeo import gdal, ogr, osr\n",
    "from sklearn import decomposition, preprocessing, linear_model, cross_validation\n",
    "from sklearn.metrics import pairwise, classification_report, mean_squared_error\n",
    "import sys\n",
    "import gc\n",
    "import cPickle\n",
    "import warnings\n",
    "warnings.filterwarnings('ignore')"
   ]
  },
  {
   "cell_type": "code",
   "execution_count": 3,
   "metadata": {
    "collapsed": false
   },
   "outputs": [],
   "source": [
    "# Functions\n",
    "\n",
    "# Loads non stacked GeoTiff \n",
    "def load_image(image_path):\n",
    "    ds = gdal.Open( path )\n",
    "    myarray = np.array(ds.GetRasterBand(1).ReadAsArray())\n",
    "    image_rows, image_columns = myarray.shape\n",
    "    image_vector = myarray.reshape((image_rows*image_columns),1)\n",
    "    return (image_vector, image_rows, image_columns)\n",
    "\n",
    "def extract_factors(bands_matrix, components):\n",
    "    pca = decomposition.PCA(n_components=components, whiten=False)\n",
    "    factors = pca.fit_transform(bands_matrix)\n",
    "    print 'Evaluation of results using Principal Component Analysis(PCA) as data reduction criteria'\n",
    "    print 'Explained variance using ',components,' components: ',(sum(pca.explained_variance_ratio_))*100,'%'\n",
    "    return factors\n",
    "\n",
    "def normalize(vector):\n",
    "    # MinMax Normalization for a vector\n",
    "    min_max_scaler = preprocessing.MinMaxScaler()\n",
    "    normalized = min_max_scaler.fit_transform(np.array(vector))\n",
    "    return normalized\n",
    "\n",
    "# NDVI Calculation\n",
    "ndvi = lambda NIR, RED: (NIR - RED)/(NIR - RED)"
   ]
  },
  {
   "cell_type": "code",
   "execution_count": 4,
   "metadata": {
    "collapsed": false
   },
   "outputs": [],
   "source": [
    "# Load B1\n",
    "path = 'https://s3-us-west-2.amazonaws.com/landsat-pds/L8/221/071/LC82210712014261LGN00/LC82210712014261LGN00_B1.TIF'\n",
    "B1_vector, B1_rows, B1_collumns = load_image(path)"
   ]
  },
  {
   "cell_type": "code",
   "execution_count": 5,
   "metadata": {
    "collapsed": false
   },
   "outputs": [],
   "source": [
    "# Load B2\n",
    "path = 'https://s3-us-west-2.amazonaws.com/landsat-pds/L8/221/071/LC82210712014261LGN00/LC82210712014261LGN00_B2.TIF'\n",
    "B2_vector, B2_rows, B2_collumns = load_image(path)"
   ]
  },
  {
   "cell_type": "code",
   "execution_count": 6,
   "metadata": {
    "collapsed": false
   },
   "outputs": [],
   "source": [
    "# Load B3\n",
    "path = 'https://s3-us-west-2.amazonaws.com/landsat-pds/L8/221/071/LC82210712014261LGN00/LC82210712014261LGN00_B3.TIF'\n",
    "B3_vector, B3_rows, B3_collumns = load_image(path)"
   ]
  },
  {
   "cell_type": "code",
   "execution_count": 7,
   "metadata": {
    "collapsed": false,
    "scrolled": true
   },
   "outputs": [],
   "source": [
    "# Load B4\n",
    "path = 'https://s3-us-west-2.amazonaws.com/landsat-pds/L8/221/071/LC82210712014261LGN00/LC82210712014261LGN00_B4.TIF'\n",
    "B4_vector, B4_rows, B4_collumns = load_image(path)"
   ]
  },
  {
   "cell_type": "code",
   "execution_count": 8,
   "metadata": {
    "collapsed": false
   },
   "outputs": [],
   "source": [
    "# Load B5\n",
    "path = 'https://s3-us-west-2.amazonaws.com/landsat-pds/L8/221/071/LC82210712014261LGN00/LC82210712014261LGN00_B5.TIF'\n",
    "B5_vector, B5_rows, B5_collumns = load_image(path)"
   ]
  },
  {
   "cell_type": "code",
   "execution_count": 9,
   "metadata": {
    "collapsed": false
   },
   "outputs": [],
   "source": [
    "# Load B6\n",
    "path = 'https://s3-us-west-2.amazonaws.com/landsat-pds/L8/221/071/LC82210712014261LGN00/LC82210712014261LGN00_B6.TIF'\n",
    "B6_vector, B6_rows, B6_collumns = load_image(path)"
   ]
  },
  {
   "cell_type": "code",
   "execution_count": 10,
   "metadata": {
    "collapsed": false
   },
   "outputs": [],
   "source": [
    "## Load B7\n",
    "path = 'https://s3-us-west-2.amazonaws.com/landsat-pds/L8/221/071/LC82210712014261LGN00/LC82210712014261LGN00_B7.TIF'\n",
    "B7_vector, B7_rows, B7_collumns = load_image(path)"
   ]
  },
  {
   "cell_type": "code",
   "execution_count": 11,
   "metadata": {
    "collapsed": true
   },
   "outputs": [],
   "source": [
    "# Load B9\n",
    "path = 'https://s3-us-west-2.amazonaws.com/landsat-pds/L8/221/071/LC82210712014261LGN00/LC82210712014261LGN00_B9.TIF'\n",
    "B9_vector, B9_rows, B9_collumns = load_image(path)"
   ]
  },
  {
   "cell_type": "code",
   "execution_count": 12,
   "metadata": {
    "collapsed": true
   },
   "outputs": [],
   "source": [
    "# Load B10\n",
    "path = 'https://s3-us-west-2.amazonaws.com/landsat-pds/L8/221/071/LC82210712014261LGN00/LC82210712014261LGN00_B10.TIF'\n",
    "B10_vector, B10_rows, B10_collumns = load_image(path)"
   ]
  },
  {
   "cell_type": "code",
   "execution_count": 13,
   "metadata": {
    "collapsed": false
   },
   "outputs": [
    {
     "name": "stdout",
     "output_type": "stream",
     "text": [
      "B1:  7353.14671323 (mean) 0 (min) 46458 (max)\n",
      "B2:  6966.16455043 (mean) 0 (min) 31296 (max)\n",
      "B3:  6945.18293475 (mean) 0 (min) 33367 (max)\n",
      "B4:  7460.81384237 (mean) 0 (min) 41116 (max)\n",
      "B5:  11338.7542367 (mean) 0 (min) 47920 (max)\n",
      "B6:  12296.4527858 (mean) 0 (min) 65535 (max)\n",
      "B7:  8983.41003754 (mean) 0 (min) 63533 (max)\n",
      "B9:  3617.888978 (mean) 0 (min) 13440 (max)\n",
      "B10:  22031.4595995 (mean) 0 (min) 65535 (max)\n"
     ]
    }
   ],
   "source": [
    "print 'B1: ',B1_vector.mean(),'(mean)',B1_vector.min(),'(min)',B1_vector.max(),'(max)'\n",
    "print 'B2: ',B2_vector.mean(),'(mean)',B2_vector.min(),'(min)',B2_vector.max(),'(max)'\n",
    "print 'B3: ',B3_vector.mean(),'(mean)',B3_vector.min(),'(min)',B3_vector.max(),'(max)'\n",
    "print 'B4: ',B4_vector.mean(),'(mean)',B4_vector.min(),'(min)',B4_vector.max(),'(max)'\n",
    "print 'B5: ',B5_vector.mean(),'(mean)',B5_vector.min(),'(min)',B5_vector.max(),'(max)'\n",
    "print 'B6: ',B6_vector.mean(),'(mean)',B6_vector.min(),'(min)',B6_vector.max(),'(max)'\n",
    "print 'B7: ',B7_vector.mean(),'(mean)',B7_vector.min(),'(min)',B7_vector.max(),'(max)'\n",
    "print 'B9: ',B9_vector.mean(),'(mean)',B9_vector.min(),'(min)',B9_vector.max(),'(max)'\n",
    "print 'B10: ',B10_vector.mean(),'(mean)',B10_vector.min(),'(min)',B10_vector.max(),'(max)'"
   ]
  },
  {
   "cell_type": "code",
   "execution_count": 14,
   "metadata": {
    "collapsed": false
   },
   "outputs": [],
   "source": [
    "# PCA Analysis - Band 8 not used because of characteristics \n",
    "bands_matrix = np.concatenate((normalize(B1_vector), normalize(B2_vector), normalize(B3_vector), normalize(B4_vector), normalize(B5_vector), normalize(B6_vector), normalize(B7_vector), normalize(B9_vector), normalize(B10_vector)), axis=1)\n",
    "original_input_matrix = np.concatenate((B1_vector, B2_vector, B3_vector, B4_vector, B5_vector, B6_vector, B7_vector, B9_vector, B10_vector), axis=1)"
   ]
  },
  {
   "cell_type": "code",
   "execution_count": 15,
   "metadata": {
    "collapsed": false
   },
   "outputs": [
    {
     "data": {
      "text/plain": [
       "(58304271, 9)"
      ]
     },
     "execution_count": 15,
     "metadata": {},
     "output_type": "execute_result"
    }
   ],
   "source": [
    "bands_matrix.shape"
   ]
  },
  {
   "cell_type": "code",
   "execution_count": 16,
   "metadata": {
    "collapsed": false
   },
   "outputs": [
    {
     "data": {
      "text/plain": [
       "array([[ 0.,  0.,  0., ...,  0.,  0.,  0.],\n",
       "       [ 0.,  0.,  0., ...,  0.,  0.,  0.],\n",
       "       [ 0.,  0.,  0., ...,  0.,  0.,  0.],\n",
       "       ..., \n",
       "       [ 0.,  0.,  0., ...,  0.,  0.,  0.],\n",
       "       [ 0.,  0.,  0., ...,  0.,  0.,  0.],\n",
       "       [ 0.,  0.,  0., ...,  0.,  0.,  0.]])"
      ]
     },
     "execution_count": 16,
     "metadata": {},
     "output_type": "execute_result"
    }
   ],
   "source": [
    "bands_matrix"
   ]
  },
  {
   "cell_type": "code",
   "execution_count": 17,
   "metadata": {
    "collapsed": false
   },
   "outputs": [
    {
     "name": "stdout",
     "output_type": "stream",
     "text": [
      "Evaluation of results using Principal Component Analysis(PCA) as data reduction criteria\n",
      "Explained variance using  3  components:  99.2879443947 %\n"
     ]
    }
   ],
   "source": [
    "band_factors = extract_factors(bands_matrix,3)"
   ]
  },
  {
   "cell_type": "code",
   "execution_count": 18,
   "metadata": {
    "collapsed": false
   },
   "outputs": [
    {
     "data": {
      "text/plain": [
       "(58304271, 3)"
      ]
     },
     "execution_count": 18,
     "metadata": {},
     "output_type": "execute_result"
    }
   ],
   "source": [
    "band_factors.shape"
   ]
  },
  {
   "cell_type": "code",
   "execution_count": 19,
   "metadata": {
    "collapsed": false
   },
   "outputs": [
    {
     "name": "stdout",
     "output_type": "stream",
     "text": [
      "Evaluation of results using Principal Component Analysis(PCA) as data reduction criteria\n",
      "Explained variance using  3  components:  98.0128759641 %\n"
     ]
    }
   ],
   "source": [
    "test_factors = extract_factors(bands_matrix.T,3)"
   ]
  },
  {
   "cell_type": "code",
   "execution_count": 20,
   "metadata": {
    "collapsed": false
   },
   "outputs": [
    {
     "data": {
      "text/plain": [
       "(9, 3)"
      ]
     },
     "execution_count": 20,
     "metadata": {},
     "output_type": "execute_result"
    }
   ],
   "source": [
    "test_factors.shape"
   ]
  },
  {
   "cell_type": "code",
   "execution_count": 21,
   "metadata": {
    "collapsed": true
   },
   "outputs": [],
   "source": [
    "rebuilt_matrix = np.dot(band_factors,test_factors.T)"
   ]
  },
  {
   "cell_type": "code",
   "execution_count": 22,
   "metadata": {
    "collapsed": false
   },
   "outputs": [
    {
     "data": {
      "text/plain": [
       "(58304271, 9)"
      ]
     },
     "execution_count": 22,
     "metadata": {},
     "output_type": "execute_result"
    }
   ],
   "source": [
    "rebuilt_matrix.shape"
   ]
  },
  {
   "cell_type": "code",
   "execution_count": 23,
   "metadata": {
    "collapsed": false
   },
   "outputs": [
    {
     "data": {
      "text/plain": [
       "array([[ 332.69451001,  -35.63401405,   54.91823068, ...,  450.288704  ,\n",
       "        -319.33464698, -775.77347596],\n",
       "       [ 332.69451424,  -35.6340147 ,   54.91823121, ...,  450.28871005,\n",
       "        -319.33465144, -775.77348457],\n",
       "       [ 332.69451426,  -35.63401471,   54.91823123, ...,  450.2887101 ,\n",
       "        -319.3346515 , -775.77348472],\n",
       "       ..., \n",
       "       [ 332.69451414,  -35.6340147 ,   54.9182312 , ...,  450.28870995,\n",
       "        -319.33465139, -775.77348437],\n",
       "       [ 332.69451414,  -35.6340147 ,   54.9182312 , ...,  450.28870995,\n",
       "        -319.33465139, -775.77348437],\n",
       "       [ 332.69451414,  -35.6340147 ,   54.9182312 , ...,  450.28870995,\n",
       "        -319.33465139, -775.77348437]])"
      ]
     },
     "execution_count": 23,
     "metadata": {},
     "output_type": "execute_result"
    }
   ],
   "source": [
    "rebuilt_matrix"
   ]
  },
  {
   "cell_type": "code",
   "execution_count": 24,
   "metadata": {
    "collapsed": true
   },
   "outputs": [],
   "source": [
    "df_original = pd.DataFrame(original_input_matrix)\n",
    "df_calculated = pd.DataFrame(rebuilt_matrix)"
   ]
  },
  {
   "cell_type": "code",
   "execution_count": 25,
   "metadata": {
    "collapsed": false
   },
   "outputs": [
    {
     "name": "stdout",
     "output_type": "stream",
     "text": [
      "Cosine similarity between original, and rebuild images:\n",
      "Band 1 :  [[-0.52924785]]\n",
      "Band 2 :  [[ 0.52532227]]\n",
      "Band 3 :  [[-0.54002619]]\n",
      "Band 4 :  [[-0.53923166]]\n",
      "Band 5 :  [[ 0.50853795]]\n",
      "Band 6 :  [[-0.53509485]]\n",
      "Band 7 :  [[-0.5387424]]\n",
      "Band 9 :  [[ 0.52819287]]\n",
      "Band 10 :  [[ 0.53043943]]\n"
     ]
    }
   ],
   "source": [
    "print 'Cosine similarity between original, and rebuild images:'\n",
    "for i in df_original.columns:\n",
    "    value = pairwise.cosine_similarity(df_original[i],df_calculated[i])\n",
    "    if i < 7:\n",
    "        print 'Band',(i+1),': ', value\n",
    "    else:\n",
    "        print 'Band',(i+2),': ', value\n",
    "\n"
   ]
  },
  {
   "cell_type": "code",
   "execution_count": 26,
   "metadata": {
    "collapsed": true
   },
   "outputs": [],
   "source": [
    "# NDVI Calculation for the original data and the processed data.\n",
    "B4_Original = df_original[3]\n",
    "B5_Original = df_original[4]\n",
    "B4_PCA = df_calculated[3]\n",
    "B5_PCA = df_calculated[4]\n"
   ]
  },
  {
   "cell_type": "code",
   "execution_count": 27,
   "metadata": {
    "collapsed": true
   },
   "outputs": [],
   "source": [
    "# Normalized Difference Vegetation Index(NDVI) Calculations \n",
    "NDVI_Original = ndvi(B5_Original,B4_Original)\n",
    "NDVI_PCA = ndvi(B5_PCA,B4_PCA)\n",
    "\n",
    "#Treat NaN\n",
    "NDVI_Original = NDVI_Original.fillna(1)\n",
    "NDVI_PCA = NDVI_PCA.fillna(1)"
   ]
  },
  {
   "cell_type": "code",
   "execution_count": 28,
   "metadata": {
    "collapsed": false
   },
   "outputs": [
    {
     "name": "stdout",
     "output_type": "stream",
     "text": [
      "Cosine Similarity Between NDVI panels from Original Data, and Rebuild Data:\n",
      "[[ 1.]]\n"
     ]
    }
   ],
   "source": [
    "print 'Cosine Similarity Between NDVI panels from Original Data, and Rebuild Data:'\n",
    "print pairwise.cosine_similarity(NDVI_Original,NDVI_PCA)"
   ]
  },
  {
   "cell_type": "code",
   "execution_count": 52,
   "metadata": {
    "collapsed": false
   },
   "outputs": [
    {
     "name": "stdout",
     "output_type": "stream",
     "text": [
      "Factor Matrix Shape:  (58304271, 8)\n",
      "Target Shape:  (58304271,)\n"
     ]
    }
   ],
   "source": [
    "# Temperature Modeling Using Bands 9(Near Infrared)\n",
    "# Initial Test, using original dataset for regression algorithm benchmark\n",
    "\n",
    "NIR = df_original[8]\n",
    "target = np.array(NIR)\n",
    "factor_matrix = df_original.ix[:,0:7]\n",
    "factor_matrix = np.array(factor_matrix)\n",
    "print 'Factor Matrix Shape: ',factor_matrix.shape\n",
    "print 'Target Shape: ',target.shape"
   ]
  },
  {
   "cell_type": "code",
   "execution_count": 53,
   "metadata": {
    "collapsed": false
   },
   "outputs": [],
   "source": [
    "# Spliting on training and testing groups and then apply Ridge Regression with 10-fold crossvalidation \n",
    "# Because of data size, 90% of it would be used on the test partition\n",
    "factor_matrix_train, factor_matrix_test, target_train, target_test = cross_validation.train_test_split(factor_matrix, target, test_size=0.90, random_state=10)\n",
    "ridge_cv = linear_model.RidgeCV(cv=10).fit(factor_matrix_train, target_train)"
   ]
  },
  {
   "cell_type": "code",
   "execution_count": 54,
   "metadata": {
    "collapsed": true
   },
   "outputs": [],
   "source": [
    "eval_train = ridge_cv.predict(factor_matrix_train)\n",
    "eval_test = ridge_cv.predict(factor_matrix_test)"
   ]
  },
  {
   "cell_type": "code",
   "execution_count": 55,
   "metadata": {
    "collapsed": false
   },
   "outputs": [
    {
     "name": "stdout",
     "output_type": "stream",
     "text": [
      "Test samples (52473844,)\n"
     ]
    }
   ],
   "source": [
    "print 'Test samples',eval_test.shape"
   ]
  },
  {
   "cell_type": "code",
   "execution_count": 56,
   "metadata": {
    "collapsed": false
   },
   "outputs": [
    {
     "name": "stdout",
     "output_type": "stream",
     "text": [
      "Training samples (5830427,)\n"
     ]
    }
   ],
   "source": [
    "print 'Training samples',target_train.shape"
   ]
  },
  {
   "cell_type": "code",
   "execution_count": 57,
   "metadata": {
    "collapsed": false
   },
   "outputs": [
    {
     "data": {
      "text/plain": [
       "array([[ 0.98733079]])"
      ]
     },
     "execution_count": 57,
     "metadata": {},
     "output_type": "execute_result"
    }
   ],
   "source": [
    "#Cosine Similarity Among Prediction and Labels On Training\n",
    "pairwise.cosine_similarity(eval_train,target_train)"
   ]
  },
  {
   "cell_type": "code",
   "execution_count": 58,
   "metadata": {
    "collapsed": false
   },
   "outputs": [
    {
     "data": {
      "text/plain": [
       "17527832.806576081"
      ]
     },
     "execution_count": 58,
     "metadata": {},
     "output_type": "execute_result"
    }
   ],
   "source": [
    "# MSE\n",
    "mean_squared_error(target_train, eval_train, sample_weight=None, multioutput='uniform_average')"
   ]
  },
  {
   "cell_type": "code",
   "execution_count": 59,
   "metadata": {
    "collapsed": false
   },
   "outputs": [
    {
     "data": {
      "text/plain": [
       "array([[ 0.98734757]])"
      ]
     },
     "execution_count": 59,
     "metadata": {},
     "output_type": "execute_result"
    }
   ],
   "source": [
    "#Cosine Similarity Among Prediction and Labels On Testing\n",
    "pairwise.cosine_similarity(eval_test,target_test)"
   ]
  },
  {
   "cell_type": "code",
   "execution_count": 60,
   "metadata": {
    "collapsed": false
   },
   "outputs": [
    {
     "data": {
      "text/plain": [
       "17500855.738326289"
      ]
     },
     "execution_count": 60,
     "metadata": {},
     "output_type": "execute_result"
    }
   ],
   "source": [
    "# MSE\n",
    "mean_squared_error(target_test, eval_test, sample_weight=None, multioutput='uniform_average')"
   ]
  },
  {
   "cell_type": "code",
   "execution_count": 61,
   "metadata": {
    "collapsed": false
   },
   "outputs": [
    {
     "name": "stdout",
     "output_type": "stream",
     "text": [
      "Factor Matrix Shape:  (58304271, 8)\n",
      "Target Shape:  (58304271,)\n"
     ]
    }
   ],
   "source": [
    "# Repeat regression, but using the PCA processed data\n",
    "\n",
    "NIR = df_calculated[8]\n",
    "target = np.array(NIR)\n",
    "factor_matrix = df_calculated.ix[:,0:7]\n",
    "factor_matrix = np.array(factor_matrix)\n",
    "print 'Factor Matrix Shape: ',factor_matrix.shape\n",
    "print 'Target Shape: ',target.shape\n"
   ]
  },
  {
   "cell_type": "code",
   "execution_count": 62,
   "metadata": {
    "collapsed": true
   },
   "outputs": [],
   "source": [
    "#Spliting on training and testing groups and then apply Ridge Regression with 10-fold crossvalidation \n",
    "factor_matrix_train, factor_matrix_test, target_train, target_test = cross_validation.train_test_split(factor_matrix, target, test_size=0.90, random_state=10)\n",
    "ridge_cv = linear_model.RidgeCV(cv=10).fit(factor_matrix_train, target_train)"
   ]
  },
  {
   "cell_type": "code",
   "execution_count": 63,
   "metadata": {
    "collapsed": true
   },
   "outputs": [],
   "source": [
    "eval_train = ridge_cv.predict(factor_matrix_train)\n",
    "eval_test = ridge_cv.predict(factor_matrix_test)"
   ]
  },
  {
   "cell_type": "code",
   "execution_count": 64,
   "metadata": {
    "collapsed": false
   },
   "outputs": [
    {
     "data": {
      "text/plain": [
       "array([[ 1.]])"
      ]
     },
     "execution_count": 64,
     "metadata": {},
     "output_type": "execute_result"
    }
   ],
   "source": [
    "#Cosine Similarity Among Prediction and Labels On Training\n",
    "pairwise.cosine_similarity(eval_train,target_train)"
   ]
  },
  {
   "cell_type": "code",
   "execution_count": 65,
   "metadata": {
    "collapsed": false
   },
   "outputs": [
    {
     "data": {
      "text/plain": [
       "6.9076870208137537e-18"
      ]
     },
     "execution_count": 65,
     "metadata": {},
     "output_type": "execute_result"
    }
   ],
   "source": [
    "#MSE\n",
    "mean_squared_error(target_train, eval_train, sample_weight=None, multioutput='uniform_average')"
   ]
  },
  {
   "cell_type": "code",
   "execution_count": 66,
   "metadata": {
    "collapsed": false
   },
   "outputs": [
    {
     "data": {
      "text/plain": [
       "array([[ 1.]])"
      ]
     },
     "execution_count": 66,
     "metadata": {},
     "output_type": "execute_result"
    }
   ],
   "source": [
    "#Cosine Similarity Among Prediction and Labels On Testing\n",
    "pairwise.cosine_similarity(eval_test,target_test)"
   ]
  },
  {
   "cell_type": "code",
   "execution_count": 67,
   "metadata": {
    "collapsed": false
   },
   "outputs": [
    {
     "data": {
      "text/plain": [
       "6.9071540716417226e-18"
      ]
     },
     "execution_count": 67,
     "metadata": {},
     "output_type": "execute_result"
    }
   ],
   "source": [
    "# MSE\n",
    "mean_squared_error(target_test, eval_test, sample_weight=None, multioutput='uniform_average')"
   ]
  }
 ],
 "metadata": {
  "kernelspec": {
   "display_name": "Python 2",
   "language": "python",
   "name": "python2"
  },
  "language_info": {
   "codemirror_mode": {
    "name": "ipython",
    "version": 2
   },
   "file_extension": ".py",
   "mimetype": "text/x-python",
   "name": "python",
   "nbconvert_exporter": "python",
   "pygments_lexer": "ipython2",
   "version": "2.7.10"
  }
 },
 "nbformat": 4,
 "nbformat_minor": 0
}
